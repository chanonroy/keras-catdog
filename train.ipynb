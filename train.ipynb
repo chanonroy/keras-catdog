{
 "cells": [
  {
   "cell_type": "code",
   "execution_count": 4,
   "metadata": {},
   "outputs": [],
   "source": [
    "from keras.layers import Conv2D, MaxPooling2D, ZeroPadding2D\n",
    "from keras.layers import Dense, Activation, Dropout, Flatten\n",
    "from keras import optimizers\n",
    "from keras.models import Sequential\n",
    "from keras.preprocessing.image import ImageDataGenerator\n",
    "import numpy as np"
   ]
  },
  {
   "cell_type": "code",
   "execution_count": 2,
   "metadata": {},
   "outputs": [],
   "source": [
    "IMG_SIZE = 150\n",
    "LEARNING_RATE = 0.001\n",
    "EPOCHS = 10\n",
    "BATCH_SIZE = 16\n",
    "\n",
    "TRAIN_DIR = 'data/train'\n",
    "TEST_DIR = 'data/test'"
   ]
  },
  {
   "cell_type": "code",
   "execution_count": 5,
   "metadata": {},
   "outputs": [
    {
     "name": "stdout",
     "output_type": "stream",
     "text": [
      "Found 23000 images belonging to 2 classes.\n",
      "Found 2000 images belonging to 2 classes.\n"
     ]
    }
   ],
   "source": [
    "# Step 1: Prepare Data\n",
    "datagen = ImageDataGenerator(rescale=1./255)\n",
    "\n",
    "train_generator = datagen.flow_from_directory(\n",
    "    TRAIN_DIR,\n",
    "    target_size=(IMG_SIZE, IMG_SIZE),\n",
    "    classes=['dogs', 'cats'],\n",
    "    class_mode='binary',\n",
    "    batch_size=BATCH_SIZE)\n",
    "\n",
    "test_generator = datagen.flow_from_directory(\n",
    "    TEST_DIR,\n",
    "    target_size=(IMG_SIZE, IMG_SIZE),\n",
    "    classes=['dogs', 'cats'],\n",
    "    class_mode='binary',\n",
    "    batch_size=BATCH_SIZE)"
   ]
  },
  {
   "cell_type": "code",
   "execution_count": 6,
   "metadata": {},
   "outputs": [],
   "source": [
    "# Step 2: Setup Model\n",
    "model = Sequential()\n",
    "\n",
    "model.add(Conv2D(32, (3, 3), input_shape=(IMG_SIZE, IMG_SIZE, 3)))\n",
    "model.add(Activation('relu'))\n",
    "model.add(MaxPooling2D(pool_size=(2, 2)))\n",
    "\n",
    "model.add(Conv2D(32, (3, 3), input_shape=(IMG_SIZE, IMG_SIZE, 3)))\n",
    "model.add(Activation('relu'))\n",
    "model.add(MaxPooling2D(pool_size=(2, 2)))\n",
    "\n",
    "model.add(Conv2D(64, (3, 3), input_shape=(IMG_SIZE, IMG_SIZE, 3)))\n",
    "model.add(Activation('relu'))\n",
    "model.add(MaxPooling2D(pool_size=(2, 2)))\n",
    "\n",
    "model.add(Flatten())\n",
    "model.add(Dense(64))\n",
    "model.add(Activation('relu'))\n",
    "model.add(Dropout(0.5))\n",
    "model.add(Dense(1))\n",
    "model.add(Activation('sigmoid'))\n",
    "\n",
    "model.compile(\n",
    "    loss='binary_crossentropy',\n",
    "    optimizer='adam',\n",
    "    metrics=['accuracy'])"
   ]
  },
  {
   "cell_type": "code",
   "execution_count": 7,
   "metadata": {},
   "outputs": [
    {
     "name": "stdout",
     "output_type": "stream",
     "text": [
      "Epoch 1/10\n",
      "128/128 [==============================] - 19s 148ms/step - loss: 0.7034 - acc: 0.5088 - val_loss: 0.6926 - val_acc: 0.4928\n",
      "Epoch 2/10\n",
      "128/128 [==============================] - 7s 53ms/step - loss: 0.6907 - acc: 0.5259 - val_loss: 0.6890 - val_acc: 0.5757\n",
      "Epoch 3/10\n",
      "128/128 [==============================] - 7s 56ms/step - loss: 0.6851 - acc: 0.5410 - val_loss: 0.6565 - val_acc: 0.6226\n",
      "Epoch 4/10\n",
      "128/128 [==============================] - 8s 59ms/step - loss: 0.6579 - acc: 0.5972 - val_loss: 0.6482 - val_acc: 0.6178\n",
      "Epoch 5/10\n",
      "128/128 [==============================] - 8s 59ms/step - loss: 0.6412 - acc: 0.6445 - val_loss: 0.6283 - val_acc: 0.6466\n",
      "Epoch 6/10\n",
      "128/128 [==============================] - 8s 61ms/step - loss: 0.6319 - acc: 0.6514 - val_loss: 0.5957 - val_acc: 0.6923\n",
      "Epoch 7/10\n",
      "128/128 [==============================] - 7s 57ms/step - loss: 0.5944 - acc: 0.6792 - val_loss: 0.5941 - val_acc: 0.6671\n",
      "Epoch 8/10\n",
      "128/128 [==============================] - 7s 54ms/step - loss: 0.5891 - acc: 0.6968 - val_loss: 0.6002 - val_acc: 0.6839\n",
      "Epoch 9/10\n",
      "128/128 [==============================] - 7s 55ms/step - loss: 0.5643 - acc: 0.7109 - val_loss: 0.5452 - val_acc: 0.7284\n",
      "Epoch 10/10\n",
      "128/128 [==============================] - 7s 56ms/step - loss: 0.5746 - acc: 0.7056 - val_loss: 0.5715 - val_acc: 0.6839\n"
     ]
    }
   ],
   "source": [
    "training = model.fit_generator(\n",
    "    generator=train_generator,\n",
    "    steps_per_epoch=2048 // BATCH_SIZE,\n",
    "    epochs=EPOCHS,\n",
    "    validation_data=test_generator,\n",
    "    validation_steps=832 // BATCH_SIZE)"
   ]
  },
  {
   "cell_type": "code",
   "execution_count": 13,
   "metadata": {},
   "outputs": [],
   "source": [
    "model.save_weights('models/CNN.h5')"
   ]
  },
  {
   "cell_type": "code",
   "execution_count": null,
   "metadata": {},
   "outputs": [],
   "source": []
  },
  {
   "cell_type": "code",
   "execution_count": null,
   "metadata": {},
   "outputs": [],
   "source": []
  },
  {
   "cell_type": "code",
   "execution_count": null,
   "metadata": {},
   "outputs": [],
   "source": []
  }
 ],
 "metadata": {
  "kernelspec": {
   "display_name": "Python 3",
   "language": "python",
   "name": "python3"
  },
  "language_info": {
   "codemirror_mode": {
    "name": "ipython",
    "version": 3
   },
   "file_extension": ".py",
   "mimetype": "text/x-python",
   "name": "python",
   "nbconvert_exporter": "python",
   "pygments_lexer": "ipython3",
   "version": "3.5.1"
  }
 },
 "nbformat": 4,
 "nbformat_minor": 2
}
