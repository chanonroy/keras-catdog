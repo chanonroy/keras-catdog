{
 "cells": [
  {
   "cell_type": "code",
   "execution_count": 1,
   "metadata": {},
   "outputs": [
    {
     "name": "stderr",
     "output_type": "stream",
     "text": [
      "Using TensorFlow backend.\n"
     ]
    }
   ],
   "source": [
    "import numpy as np\n",
    "from keras.layers import Conv2D, MaxPooling2D, ZeroPadding2D\n",
    "from keras.layers import Dense, Activation, Dropout, Flatten\n",
    "from keras import optimizers\n",
    "from keras.models import Sequential\n",
    "from keras.preprocessing.image import ImageDataGenerator, img_to_array, load_img"
   ]
  },
  {
   "cell_type": "code",
   "execution_count": 10,
   "metadata": {},
   "outputs": [],
   "source": [
    "IMG_SIZE = 100\n",
    "LEARNING_RATE = 0.01\n",
    "EPOCHS = 25\n",
    "BATCH_SIZE = 32\n",
    "\n",
    "TRAIN_SIZE = 23000\n",
    "TEST_SIZE = 2000\n",
    "\n",
    "TRAIN_DIR = 'data/train'\n",
    "TEST_DIR = 'data/test'"
   ]
  },
  {
   "cell_type": "code",
   "execution_count": 11,
   "metadata": {},
   "outputs": [
    {
     "name": "stdout",
     "output_type": "stream",
     "text": [
      "Found 23000 images belonging to 2 classes.\n",
      "Found 2000 images belonging to 2 classes.\n"
     ]
    }
   ],
   "source": [
    "# datagen = ImageDataGenerator(rescale=1./255)\n",
    "\n",
    "augmented_gen = ImageDataGenerator(\n",
    "    rescale=1./255,\n",
    "    shear_range=0.2,\n",
    "    zoom_range=0.2,\n",
    "    horizontal_flip=True)\n",
    "\n",
    "train_gen = augmented_gen.flow_from_directory(\n",
    "    TRAIN_DIR,\n",
    "    target_size=(IMG_SIZE, IMG_SIZE),\n",
    "    classes=['dogs', 'cats'],\n",
    "    batch_size=BATCH_SIZE)\n",
    "\n",
    "test_gen = augmented_gen.flow_from_directory(\n",
    "    TEST_DIR,\n",
    "    target_size=(IMG_SIZE, IMG_SIZE),\n",
    "    classes=['dogs', 'cats'],\n",
    "    batch_size=BATCH_SIZE)"
   ]
  },
  {
   "cell_type": "code",
   "execution_count": 12,
   "metadata": {},
   "outputs": [
    {
     "name": "stdout",
     "output_type": "stream",
     "text": [
      "_________________________________________________________________\n",
      "Layer (type)                 Output Shape              Param #   \n",
      "=================================================================\n",
      "conv2d_7 (Conv2D)            (None, 98, 98, 32)        896       \n",
      "_________________________________________________________________\n",
      "activation_11 (Activation)   (None, 98, 98, 32)        0         \n",
      "_________________________________________________________________\n",
      "max_pooling2d_7 (MaxPooling2 (None, 49, 49, 32)        0         \n",
      "_________________________________________________________________\n",
      "conv2d_8 (Conv2D)            (None, 47, 47, 32)        9248      \n",
      "_________________________________________________________________\n",
      "activation_12 (Activation)   (None, 47, 47, 32)        0         \n",
      "_________________________________________________________________\n",
      "max_pooling2d_8 (MaxPooling2 (None, 23, 23, 32)        0         \n",
      "_________________________________________________________________\n",
      "conv2d_9 (Conv2D)            (None, 21, 21, 64)        18496     \n",
      "_________________________________________________________________\n",
      "activation_13 (Activation)   (None, 21, 21, 64)        0         \n",
      "_________________________________________________________________\n",
      "max_pooling2d_9 (MaxPooling2 (None, 10, 10, 64)        0         \n",
      "_________________________________________________________________\n",
      "flatten_3 (Flatten)          (None, 6400)              0         \n",
      "_________________________________________________________________\n",
      "dense_5 (Dense)              (None, 64)                409664    \n",
      "_________________________________________________________________\n",
      "activation_14 (Activation)   (None, 64)                0         \n",
      "_________________________________________________________________\n",
      "dropout_3 (Dropout)          (None, 64)                0         \n",
      "_________________________________________________________________\n",
      "dense_6 (Dense)              (None, 2)                 130       \n",
      "_________________________________________________________________\n",
      "activation_15 (Activation)   (None, 2)                 0         \n",
      "=================================================================\n",
      "Total params: 438,434\n",
      "Trainable params: 438,434\n",
      "Non-trainable params: 0\n",
      "_________________________________________________________________\n"
     ]
    }
   ],
   "source": [
    "model = Sequential()\n",
    "\n",
    "model.add(Conv2D(32, (3, 3), input_shape=(IMG_SIZE, IMG_SIZE, 3)))\n",
    "model.add(Activation('relu'))\n",
    "model.add(MaxPooling2D(pool_size=(2, 2)))\n",
    "\n",
    "model.add(Conv2D(32, (3, 3), input_shape=(IMG_SIZE, IMG_SIZE, 3)))\n",
    "model.add(Activation('relu'))\n",
    "model.add(MaxPooling2D(pool_size=(2, 2)))\n",
    "\n",
    "model.add(Conv2D(64, (3, 3), input_shape=(IMG_SIZE, IMG_SIZE, 3)))\n",
    "model.add(Activation('relu'))\n",
    "model.add(MaxPooling2D(pool_size=(2, 2)))\n",
    "\n",
    "model.add(Flatten())\n",
    "model.add(Dense(64))\n",
    "model.add(Activation('relu'))\n",
    "model.add(Dropout(0.5))\n",
    "model.add(Dense(2))\n",
    "model.add(Activation('softmax'))\n",
    "\n",
    "model.compile(\n",
    "    loss='categorical_crossentropy',\n",
    "    optimizer='adam',\n",
    "    metrics=['accuracy'])\n",
    "\n",
    "model.summary()"
   ]
  },
  {
   "cell_type": "code",
   "execution_count": 13,
   "metadata": {
    "scrolled": true
   },
   "outputs": [
    {
     "name": "stdout",
     "output_type": "stream",
     "text": [
      "Epoch 1/25\n",
      "718/718 [==============================] - 100s 140ms/step - loss: 0.6858 - acc: 0.5446 - val_loss: 0.6558 - val_acc: 0.6290\n",
      "Epoch 2/25\n",
      "718/718 [==============================] - 100s 139ms/step - loss: 0.6217 - acc: 0.6575 - val_loss: 0.5752 - val_acc: 0.6759\n",
      "Epoch 3/25\n",
      "718/718 [==============================] - 99s 138ms/step - loss: 0.5504 - acc: 0.7254 - val_loss: 0.4692 - val_acc: 0.7868\n",
      "Epoch 4/25\n",
      "718/718 [==============================] - 99s 138ms/step - loss: 0.4917 - acc: 0.7689 - val_loss: 0.4330 - val_acc: 0.8065\n",
      "Epoch 5/25\n",
      "718/718 [==============================] - 99s 138ms/step - loss: 0.4607 - acc: 0.7906 - val_loss: 0.4140 - val_acc: 0.8049\n",
      "Epoch 6/25\n",
      "718/718 [==============================] - 99s 138ms/step - loss: 0.4358 - acc: 0.8048 - val_loss: 0.3866 - val_acc: 0.8327\n",
      "Epoch 7/25\n",
      "718/718 [==============================] - 99s 138ms/step - loss: 0.4173 - acc: 0.8171 - val_loss: 0.3755 - val_acc: 0.8327\n",
      "Epoch 8/25\n",
      "718/718 [==============================] - 99s 138ms/step - loss: 0.3946 - acc: 0.8254 - val_loss: 0.3623 - val_acc: 0.8347\n",
      "Epoch 9/25\n",
      "718/718 [==============================] - 99s 138ms/step - loss: 0.3883 - acc: 0.8281 - val_loss: 0.3378 - val_acc: 0.8468\n",
      "Epoch 10/25\n",
      "718/718 [==============================] - 99s 138ms/step - loss: 0.3727 - acc: 0.8332 - val_loss: 0.3413 - val_acc: 0.8448\n",
      "Epoch 11/25\n",
      "718/718 [==============================] - 99s 137ms/step - loss: 0.3606 - acc: 0.8451 - val_loss: 0.3351 - val_acc: 0.8453\n",
      "Epoch 12/25\n",
      "718/718 [==============================] - 102s 143ms/step - loss: 0.3482 - acc: 0.8480 - val_loss: 0.3439 - val_acc: 0.8493\n",
      "Epoch 13/25\n",
      "718/718 [==============================] - 104s 145ms/step - loss: 0.3414 - acc: 0.8538 - val_loss: 0.3195 - val_acc: 0.8523\n",
      "Epoch 14/25\n",
      "718/718 [==============================] - 104s 144ms/step - loss: 0.3306 - acc: 0.8578 - val_loss: 0.3079 - val_acc: 0.8679\n",
      "Epoch 15/25\n",
      "718/718 [==============================] - 100s 139ms/step - loss: 0.3234 - acc: 0.8590 - val_loss: 0.3197 - val_acc: 0.8609\n",
      "Epoch 16/25\n",
      "718/718 [==============================] - 99s 138ms/step - loss: 0.3122 - acc: 0.8686 - val_loss: 0.3209 - val_acc: 0.8669\n",
      "Epoch 17/25\n",
      "718/718 [==============================] - 98s 137ms/step - loss: 0.3096 - acc: 0.8703 - val_loss: 0.3015 - val_acc: 0.8674\n",
      "Epoch 18/25\n",
      "718/718 [==============================] - 99s 138ms/step - loss: 0.3029 - acc: 0.8716 - val_loss: 0.3026 - val_acc: 0.8674\n",
      "Epoch 19/25\n",
      "718/718 [==============================] - 99s 138ms/step - loss: 0.2994 - acc: 0.8769 - val_loss: 0.3057 - val_acc: 0.8740\n",
      "Epoch 20/25\n",
      "718/718 [==============================] - 99s 138ms/step - loss: 0.2927 - acc: 0.8768 - val_loss: 0.3126 - val_acc: 0.8695\n",
      "Epoch 21/25\n",
      "718/718 [==============================] - 101s 141ms/step - loss: 0.2907 - acc: 0.8777 - val_loss: 0.2927 - val_acc: 0.8805\n",
      "Epoch 22/25\n",
      "718/718 [==============================] - 99s 138ms/step - loss: 0.2844 - acc: 0.8786 - val_loss: 0.2841 - val_acc: 0.8805\n",
      "Epoch 23/25\n",
      "718/718 [==============================] - 99s 138ms/step - loss: 0.2798 - acc: 0.8822 - val_loss: 0.2869 - val_acc: 0.8831\n",
      "Epoch 24/25\n",
      "718/718 [==============================] - 99s 138ms/step - loss: 0.2769 - acc: 0.8838 - val_loss: 0.2882 - val_acc: 0.8725\n",
      "Epoch 25/25\n",
      "718/718 [==============================] - 99s 138ms/step - loss: 0.2731 - acc: 0.8857 - val_loss: 0.2830 - val_acc: 0.8881\n"
     ]
    }
   ],
   "source": [
    "training = model.fit_generator(\n",
    "    generator=train_gen,\n",
    "    steps_per_epoch= TRAIN_SIZE // BATCH_SIZE,\n",
    "    epochs=EPOCHS,\n",
    "    validation_data=test_gen,\n",
    "    validation_steps= TEST_SIZE // BATCH_SIZE)"
   ]
  },
  {
   "cell_type": "code",
   "execution_count": 17,
   "metadata": {},
   "outputs": [],
   "source": [
    "img = load_img('./test/dog.jpg', target_size=(IMG_SIZE, IMG_SIZE))\n",
    "x = img_to_array(img)\n",
    "x = x.reshape((1,) + x.shape)\n",
    "x = x/255"
   ]
  },
  {
   "cell_type": "code",
   "execution_count": 15,
   "metadata": {},
   "outputs": [],
   "source": [
    "model.save('models/CNN-categorical-25.h5')"
   ]
  },
  {
   "cell_type": "code",
   "execution_count": 18,
   "metadata": {},
   "outputs": [
    {
     "name": "stdout",
     "output_type": "stream",
     "text": [
      "[0.9999943971633911, 5.65083246328868e-06]\n"
     ]
    }
   ],
   "source": [
    "prediction = model.predict(x).tolist()\n",
    "print(prediction[0])"
   ]
  },
  {
   "cell_type": "code",
   "execution_count": null,
   "metadata": {},
   "outputs": [],
   "source": []
  }
 ],
 "metadata": {
  "kernelspec": {
   "display_name": "Python 3",
   "language": "python",
   "name": "python3"
  },
  "language_info": {
   "codemirror_mode": {
    "name": "ipython",
    "version": 3
   },
   "file_extension": ".py",
   "mimetype": "text/x-python",
   "name": "python",
   "nbconvert_exporter": "python",
   "pygments_lexer": "ipython3",
   "version": "3.5.1"
  }
 },
 "nbformat": 4,
 "nbformat_minor": 2
}
